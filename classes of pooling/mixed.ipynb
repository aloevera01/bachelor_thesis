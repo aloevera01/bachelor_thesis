{
 "cells": [
  {
   "cell_type": "code",
   "execution_count": 1,
   "id": "thrown-works",
   "metadata": {},
   "outputs": [],
   "source": [
    "import torch\n",
    "import torchvision\n",
    "import torchvision.transforms as transforms\n",
    "import torch.nn as nn\n",
    "import torch.nn.functional as F\n",
    "import matplotlib.pyplot as plt\n",
    "import numpy as np\n",
    "from torch.utils.data import Subset"
   ]
  },
  {
   "cell_type": "code",
   "execution_count": 2,
   "id": "focused-lawsuit",
   "metadata": {},
   "outputs": [],
   "source": [
    "class mixedPool(nn.Module):\n",
    "    def __init__(self, kernel_size, stride, alpha = 0.5, padding = 0):\n",
    "        super(mixedPool, self).__init__()\n",
    "        alpha = torch.FloatTensor([alpha])\n",
    "        self.alpha = nn.Parameter(alpha)\n",
    "        self.kernel_size = kernel_size\n",
    "        self.stride = stride\n",
    "        self.padding = padding\n",
    "         \n",
    "    def forward(self, x):\n",
    "        x = self.alpha * F.max_pool2d(x,\n",
    "                                      self.kernel_size,\n",
    "                                      self.stride,\n",
    "                                      self.padding) + (1 - self.alpha) * F.avg_pool2d(x,\n",
    "                                                                                      self.kernel_size,\n",
    "                                                                                      self.stride, \n",
    "                                                                                      self.padding)\n",
    "        return x"
   ]
  },
  {
   "cell_type": "code",
   "execution_count": null,
   "id": "systematic-dover",
   "metadata": {},
   "outputs": [],
   "source": []
  }
 ],
 "metadata": {
  "kernelspec": {
   "display_name": "Python 3",
   "language": "python",
   "name": "python3"
  },
  "language_info": {
   "codemirror_mode": {
    "name": "ipython",
    "version": 3
   },
   "file_extension": ".py",
   "mimetype": "text/x-python",
   "name": "python",
   "nbconvert_exporter": "python",
   "pygments_lexer": "ipython3",
   "version": "3.9.2"
  }
 },
 "nbformat": 4,
 "nbformat_minor": 5
}
