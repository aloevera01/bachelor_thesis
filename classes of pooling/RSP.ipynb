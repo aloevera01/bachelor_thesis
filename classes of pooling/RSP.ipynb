{
 "cells": [
  {
   "cell_type": "code",
   "execution_count": 1,
   "id": "introductory-alberta",
   "metadata": {},
   "outputs": [],
   "source": [
    "import torch\n",
    "import torchvision\n",
    "import torchvision.transforms as transforms\n",
    "import torch.nn as nn\n",
    "import torch.nn.functional as F\n",
    "import matplotlib.pyplot as plt\n",
    "import numpy as np\n",
    "from torch.utils.data import Subset"
   ]
  },
  {
   "cell_type": "code",
   "execution_count": 2,
   "id": "burning-budapest",
   "metadata": {},
   "outputs": [],
   "source": [
    "class rankStochasticPool(nn.Module):\n",
    "    def __init__(self, kernel_size, stride, padding = 0, alpha = 0.5):\n",
    "        super(rankStochasticPool, self).__init__()\n",
    "        self.kernel_size = kernel_size\n",
    "        self.stride = stride\n",
    "        self.padding = padding\n",
    "        probas = []\n",
    "        for rank in range(kernel_size ** 2):\n",
    "            probas.append(alpha * (1 - alpha) ** rank)\n",
    "        self.probas = torch.Tensor(probas)\n",
    "    \n",
    "    def forward(self, x):\n",
    "        x = F.pad(x, (self.padding, self.padding, self.padding, self.padding))\n",
    "        n_imgs = x.shape[0]\n",
    "        n_channels = x.shape[1]\n",
    "        n_height = x.shape[2]\n",
    "        n_width = x.shape[3]\n",
    "        \n",
    "        x_unfold = F.unfold(x, kernel_size=self.kernel_size, stride=self.stride)\n",
    "        \n",
    "        n_regions = x_unfold.shape[-1]\n",
    "        n_regions_side = int(np.sqrt(n_regions))\n",
    "        \n",
    "        x_unfold = x_unfold.view(n_imgs, \n",
    "                                 n_channels, \n",
    "                                 self.kernel_size, \n",
    "                                 self.kernel_size, \n",
    "                                 n_regions).permute(0, 4, 1, 2, 3).view(n_imgs, \n",
    "                                                                        n_regions, \n",
    "                                                                        n_channels, \n",
    "                                                                        self.kernel_size ** 2)\n",
    "        \n",
    "        probas = torch.cat([self.probas] * (n_imgs * n_channels * n_regions)).view(n_imgs, \n",
    "                                                                                   n_regions, \n",
    "                                                                                   n_channels, \n",
    "                                                                                   self.kernel_size ** 2)\n",
    "        \n",
    "        output = torch.zeros((n_imgs, n_channels, n_height // self.stride, n_width // self.stride))\n",
    "\n",
    "        for idx_i, img in enumerate(x_unfold):\n",
    "            for idx_r, region in enumerate(img):\n",
    "                for idx_c, channel in enumerate(region):\n",
    "                    idx = torch.multinomial(probas[idx_i][idx_r][idx_c], 1)\n",
    "                    val = channel[int(idx)]\n",
    "                    output[idx_i][idx_c][idx_r // n_regions_side][idx_r % n_regions_side] = val\n",
    "\n",
    "        return output"
   ]
  },
  {
   "cell_type": "code",
   "execution_count": null,
   "id": "stretch-buyer",
   "metadata": {},
   "outputs": [],
   "source": []
  }
 ],
 "metadata": {
  "kernelspec": {
   "display_name": "Python 3",
   "language": "python",
   "name": "python3"
  },
  "language_info": {
   "codemirror_mode": {
    "name": "ipython",
    "version": 3
   },
   "file_extension": ".py",
   "mimetype": "text/x-python",
   "name": "python",
   "nbconvert_exporter": "python",
   "pygments_lexer": "ipython3",
   "version": "3.9.2"
  }
 },
 "nbformat": 4,
 "nbformat_minor": 5
}
