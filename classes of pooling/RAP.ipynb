{
 "cells": [
  {
   "cell_type": "code",
   "execution_count": 1,
   "id": "helpful-causing",
   "metadata": {},
   "outputs": [],
   "source": [
    "import torch\n",
    "import torchvision\n",
    "import torchvision.transforms as transforms\n",
    "import torch.nn as nn\n",
    "import torch.nn.functional as F\n",
    "import matplotlib.pyplot as plt\n",
    "import numpy as np\n",
    "from torch.utils.data import Subset"
   ]
  },
  {
   "cell_type": "code",
   "execution_count": 2,
   "id": "cardiac-amateur",
   "metadata": {},
   "outputs": [],
   "source": [
    "class rankAvgPool(nn.Module):\n",
    "    def __init__(self, kernel_size, stride, t=-1, padding = 0):\n",
    "        super(rankAvgPool, self).__init__()\n",
    "        self.kernel_size = kernel_size\n",
    "        self.stride = stride\n",
    "        self.padding = padding\n",
    "        if t == -1:\n",
    "            self.t = kernel_size // 2\n",
    "        else:\n",
    "            self.t = t\n",
    "    \n",
    "    def forward(self, x):\n",
    "        x = F.pad(x, (self.padding, self.padding, self.padding, self.padding))\n",
    "        n_imgs = x.shape[0]\n",
    "        n_channels = x.shape[1]\n",
    "        n_height = x.shape[2]\n",
    "        n_width = x.shape[3]\n",
    "        \n",
    "        x_unfold = F.unfold(x, kernel_size=self.kernel_size, stride=self.stride)\n",
    "        \n",
    "        n_regions = x_unfold.shape[-1]\n",
    "        n_regions_side = int(np.sqrt(n_regions))\n",
    "        \n",
    "        x_unfold = x_unfold.view(n_imgs, \n",
    "                                   n_channels, \n",
    "                                   self.kernel_size, \n",
    "                                   self.kernel_size, \n",
    "                                   n_regions).permute(0, 4, 1, 2, 3).view(n_imgs, \n",
    "                                                                          n_regions, \n",
    "                                                                          n_channels, \n",
    "                                                                          self.kernel_size ** 2)\n",
    "        \n",
    "        t_sorted = torch.sort(x_unfold, descending=True, dim=-1).values[:, :, :, : (self.t + 1)]\n",
    "        \n",
    "        output = torch.mean(t_sorted, dim=-1).permute(0, 2, 1).view(n_imgs, n_channels, n_regions_side, n_regions_side)\n",
    "        \n",
    "        return output"
   ]
  },
  {
   "cell_type": "code",
   "execution_count": null,
   "id": "offshore-ukraine",
   "metadata": {},
   "outputs": [],
   "source": []
  }
 ],
 "metadata": {
  "kernelspec": {
   "display_name": "Python 3",
   "language": "python",
   "name": "python3"
  },
  "language_info": {
   "codemirror_mode": {
    "name": "ipython",
    "version": 3
   },
   "file_extension": ".py",
   "mimetype": "text/x-python",
   "name": "python",
   "nbconvert_exporter": "python",
   "pygments_lexer": "ipython3",
   "version": "3.9.2"
  }
 },
 "nbformat": 4,
 "nbformat_minor": 5
}
