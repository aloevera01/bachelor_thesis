{
 "cells": [
  {
   "cell_type": "code",
   "execution_count": 1,
   "id": "failing-marshall",
   "metadata": {},
   "outputs": [],
   "source": [
    "import torch\n",
    "import torchvision\n",
    "import torchvision.transforms as transforms\n",
    "import torch.nn as nn\n",
    "import torch.nn.functional as F\n",
    "import matplotlib.pyplot as plt\n",
    "import numpy as np\n",
    "from torch.utils.data import Subset"
   ]
  },
  {
   "cell_type": "code",
   "execution_count": 2,
   "id": "prepared-commitment",
   "metadata": {},
   "outputs": [],
   "source": [
    "transform = transforms.Compose(\n",
    "    [transforms.ToTensor()])\n",
    "\n",
    "trainset = torchvision.datasets.FashionMNIST(root='./data', train=True, \n",
    "                                      download=True, transform=transform)\n",
    "\n",
    "testset = torchvision.datasets.FashionMNIST(root='./data', train=False,\n",
    "                                     download=True, transform=transform)\n",
    "\n",
    "trainset_sub = Subset(trainset, indices=range(6400))\n",
    "testset_sub = Subset(testset, indices=range(1000))\n",
    "\n",
    "trainloader = torch.utils.data.DataLoader(trainset_sub, batch_size=4,\n",
    "                                          shuffle=True, num_workers=2)\n",
    "testloader = torch.utils.data.DataLoader(testset_sub, batch_size=4,\n",
    "                                          shuffle=True, num_workers=2)"
   ]
  },
  {
   "cell_type": "code",
   "execution_count": 3,
   "id": "automatic-smart",
   "metadata": {},
   "outputs": [],
   "source": [
    "class model_fashionMNIST(nn.Module):\n",
    "    def __init__(self):\n",
    "        super(model_fashionMNIST, self).__init__()\n",
    "        self.conv1 = nn.Conv2d(in_channels=1, out_channels=6, kernel_size=5)\n",
    "        self.conv2 = nn.Conv2d(in_channels=6, out_channels=16, kernel_size=5)\n",
    "        self.fc1 = nn.Linear(4 * 4 * 16, 120)\n",
    "        self.fc2 = nn.Linear(120, 84)\n",
    "        self.fc3 = nn.Linear(84, 10)\n",
    "        self.loss_fn = nn.CrossEntropyLoss()\n",
    "        self.optimizer = torch.optim.Adam(self.parameters(), lr=1e-4)\n",
    "    \n",
    "    def forward(self, x):\n",
    "        x = self.pool1(F.relu(self.conv1(x)))\n",
    "        x = self.pool2(F.relu(self.conv2(x)))\n",
    "        x = x.reshape(x.shape[0], 4 * 4 * 16)\n",
    "        x = F.relu(self.fc1(x))\n",
    "        x = F.relu(self.fc2(x))\n",
    "        x = self.fc3(x)\n",
    "        return x\n",
    "    \n",
    "    def train(self, batches):\n",
    "        losses = []\n",
    "        for epoch in range(2):\n",
    "            running_loss = 0.0\n",
    "            for i, batch in enumerate(batches):\n",
    "                X_batch, y_batch = batch   \n",
    "\n",
    "                self.optimizer.zero_grad()\n",
    "            \n",
    "                y_pred = self.forward(X_batch)\n",
    "                loss = self.loss_fn(y_pred, y_batch)\n",
    "                loss.backward()\n",
    "                self.optimizer.step()\n",
    "            \n",
    "                running_loss += loss.item()\n",
    "            \n",
    "                if i % 200 == 199:\n",
    "                    print('{} loss: {}'.format(i + 1 + epoch * 1600, \n",
    "                                               round(running_loss / 200, \n",
    "                                                     3)))\n",
    "                    losses.append(running_loss)\n",
    "                    running_loss = 0.0 \n",
    "                \n",
    "        plt.plot(np.arange(len(losses)), losses)\n",
    "        plt.show()\n",
    "        print('train ended')\n",
    "        \n",
    "    def test(self, data):\n",
    "        class_correct = list(0 for i in range(10))\n",
    "        class_total = list(0 for i in range(10))\n",
    "        classes = ('T-shirt/top', 'Trouser', 'Pullover', 'Dress', 'Coat', 'Sandal',\n",
    "                   'Shirt', 'Sneaker', 'Bag', 'Ankle boot')\n",
    "        \n",
    "        with torch.no_grad():\n",
    "            for i, batch in enumerate(data):\n",
    "                images, labels = batch\n",
    "                y_pred = self.forward(images)\n",
    "                _, predicted = torch.max(y_pred, 1)\n",
    "                \n",
    "                checker = (predicted.detach() == labels)\n",
    "                \n",
    "                for i in range(4):\n",
    "                    label = labels[i]\n",
    "                    class_correct[label] += checker[i].item()\n",
    "                    class_total[label] += 1\n",
    "                if i == 999:\n",
    "                    break\n",
    "                    \n",
    "        for idx, name_class in enumerate(classes):\n",
    "            print('Accuracy of {}: {}'.format(name_class, round(class_correct[idx] / class_total[idx] * 100, 3)))\n",
    "        \n",
    "        print('Mean accuracy = {}'.format(sum(class_correct) / sum(class_total) * 100))"
   ]
  },
  {
   "cell_type": "code",
   "execution_count": 4,
   "id": "sunrise-invitation",
   "metadata": {},
   "outputs": [],
   "source": [
    "class rankWeightedPool(nn.Module):\n",
    "    def __init__(self, kernel_size, stride, padding = 0, alpha = 0.5, device=torch.device(\"cpu\")):\n",
    "        super(rankWeightedPool, self).__init__()\n",
    "        self.kernel_size = kernel_size\n",
    "        self.stride = stride\n",
    "        self.padding = padding\n",
    "        self.device = device\n",
    "        probas = []\n",
    "        for rank in range(kernel_size ** 2):\n",
    "            probas.append(alpha * (1 - alpha) ** rank)\n",
    "        self.probas = torch.Tensor(probas)\n",
    "    \n",
    "    def forward(self, x):\n",
    "        x = F.pad(x, (self.padding, self.padding, self.padding, self.padding))\n",
    "        n_imgs = x.shape[0]\n",
    "        n_channels = x.shape[1]\n",
    "        n_height = x.shape[2]\n",
    "        n_width = x.shape[3]\n",
    "        \n",
    "        x_unfold = F.unfold(x, kernel_size=self.kernel_size, stride=self.stride)\n",
    "        \n",
    "        n_regions = x_unfold.shape[-1]\n",
    "        n_regions_side = int(np.sqrt(n_regions))\n",
    "        \n",
    "        probas = torch.cat([self.probas] * (n_imgs * n_channels * n_regions)).view(n_imgs, \n",
    "                                                                                   n_regions, \n",
    "                                                                                   n_channels, \n",
    "                                                                                   self.kernel_size ** 2)\n",
    "        x_unfold = x_unfold.view(n_imgs, \n",
    "                                 n_channels, \n",
    "                                 self.kernel_size, \n",
    "                                 self.kernel_size, \n",
    "                                 n_regions).permute(0, 4, 1, 2, 3).view(n_imgs, \n",
    "                                                                        n_regions, \n",
    "                                                                        n_channels, \n",
    "                                                                        self.kernel_size ** 2)\n",
    "        \n",
    "        x_sorted = torch.sort(x_unfold, descending=True, dim=-1).values\n",
    "        mul = self.probas * x_sorted\n",
    "        output =  torch.sum(mul, dim=-1).permute(0, 2, 1).view(n_imgs, n_channels, n_regions_side, n_regions_side)\n",
    "        \n",
    "        return output"
   ]
  },
  {
   "cell_type": "code",
   "execution_count": 5,
   "id": "surprised-spring",
   "metadata": {},
   "outputs": [],
   "source": [
    "class model_fashionMNIST_rankWeightedPool(model_fashionMNIST):\n",
    "    def __init__(self):\n",
    "        super(model_fashionMNIST_rankWeightedPool, self).__init__()\n",
    "        self.pool1 = rankWeightedPool(2, 2)\n",
    "        self.pool2 = rankWeightedPool(2, 2)"
   ]
  },
  {
   "cell_type": "code",
   "execution_count": 8,
   "id": "suspected-privacy",
   "metadata": {},
   "outputs": [
    {
     "name": "stdout",
     "output_type": "stream",
     "text": [
      "200 loss: 2.29\n",
      "400 loss: 1.973\n",
      "600 loss: 1.338\n",
      "800 loss: 1.081\n",
      "1000 loss: 0.969\n",
      "1200 loss: 0.959\n",
      "1400 loss: 0.908\n",
      "1600 loss: 0.864\n",
      "1800 loss: 0.895\n",
      "2000 loss: 0.897\n",
      "2200 loss: 0.817\n",
      "2400 loss: 0.833\n",
      "2600 loss: 0.844\n",
      "2800 loss: 0.776\n",
      "3000 loss: 0.809\n",
      "3200 loss: 0.762\n"
     ]
    },
    {
     "data": {
      "image/png": "[encoded data removed]",
      "text/plain": [
       "<Figure size 432x288 with 1 Axes>"
      ]
     },
     "metadata": {
      "needs_background": "light"
     },
     "output_type": "display_data"
    },
    {
     "name": "stdout",
     "output_type": "stream",
     "text": [
      "train ended\n"
     ]
    }
   ],
   "source": [
    "m8_RWP = model_fashionMNIST_rankWeightedPool()\n",
    "m8_RWP.train(trainloader)"
   ]
  },
  {
   "cell_type": "code",
   "execution_count": 9,
   "id": "weekly-liverpool",
   "metadata": {},
   "outputs": [
    {
     "name": "stdout",
     "output_type": "stream",
     "text": [
      "Accuracy of T-shirt/top: 69.159\n",
      "Accuracy of Trouser: 93.333\n",
      "Accuracy of Pullover: 47.748\n",
      "Accuracy of Dress: 63.441\n",
      "Accuracy of Coat: 79.13\n",
      "Accuracy of Sandal: 75.862\n",
      "Accuracy of Shirt: 12.371\n",
      "Accuracy of Sneaker: 86.316\n",
      "Accuracy of Bag: 90.526\n",
      "Accuracy of Ankle boot: 85.263\n",
      "Mean accuracy = 70.19999999999999\n"
     ]
    }
   ],
   "source": [
    "m8_RWP.test(testloader)"
   ]
  },
  {
   "cell_type": "code",
   "execution_count": null,
   "id": "ordered-testimony",
   "metadata": {},
   "outputs": [],
   "source": []
  }
 ],
 "metadata": {
  "kernelspec": {
   "display_name": "Python 3",
   "language": "python",
   "name": "python3"
  },
  "language_info": {
   "codemirror_mode": {
    "name": "ipython",
    "version": 3
   },
   "file_extension": ".py",
   "mimetype": "text/x-python",
   "name": "python",
   "nbconvert_exporter": "python",
   "pygments_lexer": "ipython3",
   "version": "3.9.2"
  }
 },
 "nbformat": 4,
 "nbformat_minor": 5
}
