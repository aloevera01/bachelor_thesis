{
  "nbformat": 4,
  "nbformat_minor": 0,
  "metadata": {
    "colab": {
      "name": "DIPLOMA_CIFAR10_RSP.ipynb",
      "provenance": [],
      "collapsed_sections": []
    },
    "kernelspec": {
      "name": "python3",
      "display_name": "Python 3"
    },
    "language_info": {
      "name": "python"
    }
  },
  "cells": [
    {
      "cell_type": "code",
      "execution_count": null,
      "metadata": {
        "id": "YOk2m8Tz07bh"
      },
      "outputs": [],
      "source": [
        "import torch\n",
        "import torchvision\n",
        "import torchvision.transforms as transforms\n",
        "import torch.nn as nn\n",
        "import torch.nn.functional as F\n",
        "import matplotlib.pyplot as plt\n",
        "import numpy as np\n",
        "from torch.utils.data import Subset"
      ]
    },
    {
      "cell_type": "code",
      "source": [
        "transform = transforms.Compose(\n",
        "    [transforms.ToTensor()])\n",
        "\n",
        "trainset = torchvision.datasets.CIFAR10(root='./data', train=True, \n",
        "                                      download=True, transform=transform)\n",
        "\n",
        "testset = torchvision.datasets.CIFAR10(root='./data', train=False,\n",
        "                                     download=True, transform=transform)\n",
        "trainset_sub = Subset(trainset, indices=range(4000))\n",
        "testset_sub = Subset(testset, indices=range(600))\n",
        "trainloader = torch.utils.data.DataLoader(trainset_sub, batch_size=4,\n",
        "                                          shuffle=True, num_workers=2)\n",
        "testloader = torch.utils.data.DataLoader(testset_sub, batch_size=4,\n",
        "                                          shuffle=True, num_workers=2)"
      ],
      "metadata": {
        "colab": {
          "base_uri": "https://localhost:8080/"
        },
        "id": "fAaAXweE09ah",
        "outputId": "cb5cfe74-68e1-4e11-8ca8-29d735863092"
      },
      "execution_count": null,
      "outputs": [
        {
          "output_type": "stream",
          "name": "stdout",
          "text": [
            "Files already downloaded and verified\n",
            "Files already downloaded and verified\n"
          ]
        }
      ]
    },
    {
      "cell_type": "code",
      "source": [
        "class model_CIFAR10(nn.Module):\n",
        "    def __init__(self):\n",
        "        super(model_CIFAR10, self).__init__()\n",
        "        self.conv1 = nn.Conv2d(in_channels=3, out_channels=16, kernel_size=3)\n",
        "        self.conv2 = nn.Conv2d(in_channels=16, out_channels=32, kernel_size=3)\n",
        "        self.fc1 = nn.Linear(6 * 6 * 32, 64)\n",
        "        self.fc2 = nn.Linear(64, 10)\n",
        "        #self.fc3 = nn.Linear(32, 10)\n",
        "        self.loss_fn = nn.CrossEntropyLoss()\n",
        "        self.optimizer = torch.optim.Adam(self.parameters(), lr=1e-4)\n",
        "    \n",
        "    def forward(self, x):\n",
        "        x = self.pool1(F.relu(self.conv1(x)))\n",
        "        x = self.pool2(F.relu(self.conv2(x)))\n",
        "        x = x.reshape(x.shape[0], 6 * 6 * 32)\n",
        "        x = F.relu(self.fc1(x))\n",
        "        #x = F.relu(self.fc2(x))\n",
        "        x = self.fc2(x)\n",
        "        return x\n",
        "    \n",
        "    def train(self, batches):\n",
        "        losses = []\n",
        "        for epoch in range(2):\n",
        "            running_loss = 0.0\n",
        "            for i, batch in enumerate(batches):\n",
        "                X_batch, y_batch = batch   \n",
        "\n",
        "                self.optimizer.zero_grad()\n",
        "            \n",
        "                y_pred = self.forward(X_batch)\n",
        "                loss = self.loss_fn(y_pred, y_batch)\n",
        "                loss.backward()\n",
        "                self.optimizer.step()\n",
        "            \n",
        "                running_loss += loss.item()\n",
        "            \n",
        "                if i % 200 == 199:\n",
        "                    print('{} loss: {}'.format(i + 1 + epoch * 800, \n",
        "                                               round(running_loss / 200, \n",
        "                                                     3)))\n",
        "                    losses.append(running_loss)\n",
        "                    running_loss = 0.0 \n",
        "                \n",
        "        plt.plot(np.arange(len(losses)), losses)\n",
        "        plt.show()\n",
        "        print('train ended')\n",
        "        \n",
        "    def test(self, data):\n",
        "        class_correct = list(0 for i in range(10))\n",
        "        class_total = list(0 for i in range(10))\n",
        "        classes = ('plane', 'car', 'bird', 'cat',\n",
        "           'deer', 'dog', 'frog', 'horse', 'ship', 'truck')\n",
        "        \n",
        "        with torch.no_grad():\n",
        "            for i, batch in enumerate(data):\n",
        "                images, labels = batch\n",
        "                y_pred = self.forward(images)\n",
        "                _, predicted = torch.max(y_pred, 1)\n",
        "                \n",
        "                checker = (predicted.detach() == labels)\n",
        "                \n",
        "                for i in range(4):\n",
        "                    label = labels[i]\n",
        "                    class_correct[label] += checker[i].item()\n",
        "                    class_total[label] += 1\n",
        "                if i == 999:\n",
        "                    break\n",
        "                    \n",
        "        for idx, name_class in enumerate(classes):\n",
        "            print('Accuracy of {}: {}'.format(name_class, round(class_correct[idx] / class_total[idx] * 100, 3)))\n",
        "        \n",
        "        print('Mean accuracy = {}'.format(sum(class_correct) / sum(class_total) * 100))"
      ],
      "metadata": {
        "id": "pE0jH6yo1Apb"
      },
      "execution_count": null,
      "outputs": []
    },
    {
      "cell_type": "code",
      "source": [
        "class rankStochasticPool(nn.Module):\n",
        "    def __init__(self, kernel_size, stride, padding = 0, alpha = 0.5):\n",
        "        super(rankStochasticPool, self).__init__()\n",
        "        self.kernel_size = kernel_size\n",
        "        self.stride = stride\n",
        "        self.padding = padding\n",
        "        probas = []\n",
        "        for rank in range(kernel_size ** 2):\n",
        "            probas.append(alpha * (1 - alpha) ** rank)\n",
        "        self.probas = torch.Tensor(probas)\n",
        "    \n",
        "    def forward(self, x):\n",
        "        x = F.pad(x, (self.padding, self.padding, self.padding, self.padding))\n",
        "        n_imgs = x.shape[0]\n",
        "        n_channels = x.shape[1]\n",
        "        n_height = x.shape[2]\n",
        "        n_width = x.shape[3]\n",
        "        \n",
        "        x_unfold = F.unfold(x, kernel_size=self.kernel_size, stride=self.stride)\n",
        "        \n",
        "        n_regions = x_unfold.shape[-1]\n",
        "        n_regions_side = int(np.sqrt(n_regions))\n",
        "        \n",
        "        x_unfold = x_unfold.view(n_imgs, \n",
        "                                 n_channels, \n",
        "                                 self.kernel_size, \n",
        "                                 self.kernel_size, \n",
        "                                 n_regions).permute(0, 4, 1, 2, 3).view(n_imgs, \n",
        "                                                                        n_regions, \n",
        "                                                                        n_channels, \n",
        "                                                                        self.kernel_size ** 2)\n",
        "        \n",
        "        probas = torch.cat([self.probas] * (n_imgs * n_channels * n_regions)).view(n_imgs, \n",
        "                                                                                   n_regions, \n",
        "                                                                                   n_channels, \n",
        "                                                                                   self.kernel_size ** 2)\n",
        "        \n",
        "        output = torch.zeros((n_imgs, n_channels, n_height // self.stride, n_width // self.stride))\n",
        "\n",
        "        for idx_i, img in enumerate(x_unfold):\n",
        "            for idx_r, region in enumerate(img):\n",
        "                for idx_c, channel in enumerate(region):\n",
        "                    idx = torch.multinomial(probas[idx_i][idx_r][idx_c], 1)\n",
        "                    val = channel[int(idx)]\n",
        "                    output[idx_i][idx_c][idx_r // n_regions_side][idx_r % n_regions_side] = val\n",
        "\n",
        "        return output"
      ],
      "metadata": {
        "id": "mTObq7pw1B_O"
      },
      "execution_count": null,
      "outputs": []
    },
    {
      "cell_type": "code",
      "source": [
        "class model_CIFAR10_rankStochasticPool(model_CIFAR10):\n",
        "    def __init__(self):\n",
        "        super(model_CIFAR10_rankStochasticPool, self).__init__()\n",
        "        self.pool1 = rankStochasticPool(2, 2)\n",
        "        self.pool2 = rankStochasticPool(2, 2)"
      ],
      "metadata": {
        "id": "r7AFdApg1FAw"
      },
      "execution_count": null,
      "outputs": []
    },
    {
      "cell_type": "code",
      "source": [
        "m9_RSP = model_CIFAR10_rankStochasticPool()\n",
        "m9_RSP.train(trainloader)"
      ],
      "metadata": {
        "colab": {
          "base_uri": "https://localhost:8080/",
          "height": 456
        },
        "id": "beUK57fx1LsI",
        "outputId": "04d9bc15-acc4-4e00-ff23-7c2b5f374b2d"
      },
      "execution_count": null,
      "outputs": [
        {
          "output_type": "stream",
          "name": "stdout",
          "text": [
            "200 loss: 2.3\n",
            "400 loss: 2.235\n",
            "600 loss: 2.122\n",
            "800 loss: 2.102\n",
            "1000 loss: 2.036\n",
            "1000 loss: 1.986\n",
            "1200 loss: 1.945\n",
            "1400 loss: 1.936\n",
            "1600 loss: 1.907\n",
            "1800 loss: 1.954\n"
          ]
        },
        {
          "output_type": "display_data",
          "data": {
            "text/plain": [
              "<Figure size 432x288 with 1 Axes>"
            ],
            "image/png": "[encoded data removed]"
          },
          "metadata": {
            "needs_background": "light"
          }
        },
        {
          "output_type": "stream",
          "name": "stdout",
          "text": [
            "train ended\n"
          ]
        }
      ]
    },
    {
      "cell_type": "code",
      "source": [
        "m9_RSP.test(testloader)"
      ],
      "metadata": {
        "colab": {
          "base_uri": "https://localhost:8080/"
        },
        "id": "hX2UYtb01U6w",
        "outputId": "c22dbc68-fcce-4e53-c8ca-3da50e70577f"
      },
      "execution_count": null,
      "outputs": [
        {
          "output_type": "stream",
          "name": "stdout",
          "text": [
            "Accuracy of plane: 42.424\n",
            "Accuracy of car: 19.565\n",
            "Accuracy of bird: 3.448\n",
            "Accuracy of cat: 19.643\n",
            "Accuracy of deer: 11.765\n",
            "Accuracy of dog: 14.516\n",
            "Accuracy of frog: 70.0\n",
            "Accuracy of horse: 5.263\n",
            "Accuracy of ship: 66.667\n",
            "Accuracy of truck: 49.296\n",
            "Mean accuracy = 32.33333333333333\n"
          ]
        }
      ]
    }
  ]
}