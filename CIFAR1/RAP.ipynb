{
 "cells": [
  {
   "cell_type": "code",
   "execution_count": 2,
   "id": "defined-organic",
   "metadata": {},
   "outputs": [],
   "source": [
    "import torch\n",
    "import torchvision\n",
    "import torchvision.transforms as transforms\n",
    "import torch.nn as nn\n",
    "import torch.nn.functional as F\n",
    "import matplotlib.pyplot as plt\n",
    "import numpy as np\n",
    "from torch.utils.data import Subset"
   ]
  },
  {
   "cell_type": "code",
   "execution_count": 18,
   "id": "distinct-glory",
   "metadata": {},
   "outputs": [
    {
     "name": "stdout",
     "output_type": "stream",
     "text": [
      "Files already downloaded and verified\n",
      "Files already downloaded and verified\n"
     ]
    }
   ],
   "source": [
    "transform = transforms.Compose(\n",
    "    [transforms.ToTensor()])\n",
    "\n",
    "trainset = torchvision.datasets.CIFAR10(root='./data', train=True, \n",
    "                                      download=True, transform=transform)\n",
    "\n",
    "testset = torchvision.datasets.CIFAR10(root='./data', train=False,\n",
    "                                     download=True, transform=transform)\n",
    "\n",
    "trainset_sub = Subset(trainset, indices=range(3200))\n",
    "testset_sub = Subset(testset, indices=range(600))\n",
    "\n",
    "trainloader = torch.utils.data.DataLoader(trainset_sub, batch_size=4,\n",
    "                                          shuffle=True, num_workers=2)\n",
    "testloader = torch.utils.data.DataLoader(testset_sub, batch_size=4,\n",
    "                                          shuffle=True, num_workers=2)"
   ]
  },
  {
   "cell_type": "code",
   "execution_count": 13,
   "id": "norman-climb",
   "metadata": {},
   "outputs": [],
   "source": [
    "class model_CIFAR10(nn.Module):\n",
    "    def __init__(self):\n",
    "        super(model_CIFAR10, self).__init__()\n",
    "        self.conv1 = nn.Conv2d(in_channels=3, out_channels=16, kernel_size=3)\n",
    "        self.conv2 = nn.Conv2d(in_channels=16, out_channels=32, kernel_size=3)\n",
    "        self.fc1 = nn.Linear(6 * 6 * 32, 64)\n",
    "        self.fc2 = nn.Linear(64, 10)\n",
    "        #self.fc3 = nn.Linear(32, 10)\n",
    "        self.loss_fn = nn.CrossEntropyLoss()\n",
    "        self.optimizer = torch.optim.Adam(self.parameters(), lr=1e-4)\n",
    "    \n",
    "    def forward(self, x):\n",
    "        x = self.pool1(F.relu(self.conv1(x)))\n",
    "        x = self.pool2(F.relu(self.conv2(x)))\n",
    "        x = x.reshape(x.shape[0], 6 * 6 * 32)\n",
    "        x = F.relu(self.fc1(x))\n",
    "        #x = F.relu(self.fc2(x))\n",
    "        x = self.fc2(x)\n",
    "        return x\n",
    "    \n",
    "    def train(self, batches):\n",
    "        losses = []\n",
    "        for epoch in range(3):\n",
    "            running_loss = 0.0\n",
    "            for i, batch in enumerate(batches):\n",
    "                X_batch, y_batch = batch   \n",
    "\n",
    "                self.optimizer.zero_grad()\n",
    "            \n",
    "                y_pred = self.forward(X_batch)\n",
    "                loss = self.loss_fn(y_pred, y_batch)\n",
    "                loss.backward()\n",
    "                self.optimizer.step()\n",
    "            \n",
    "                running_loss += loss.item()\n",
    "            \n",
    "                if i % 200 == 199:\n",
    "                    print('{} loss: {}'.format(i + 1 + epoch * 800, \n",
    "                                               round(running_loss / 200, \n",
    "                                                     3)))\n",
    "                    losses.append(running_loss)\n",
    "                    running_loss = 0.0 \n",
    "                \n",
    "        plt.plot(np.arange(len(losses)), losses)\n",
    "        plt.show()\n",
    "        print('train ended')\n",
    "        \n",
    "    def test(self, data):\n",
    "        class_correct = list(0 for i in range(10))\n",
    "        class_total = list(0 for i in range(10))\n",
    "        classes = ('plane', 'car', 'bird', 'cat',\n",
    "           'deer', 'dog', 'frog', 'horse', 'ship', 'truck')\n",
    "        \n",
    "        with torch.no_grad():\n",
    "            for i, batch in enumerate(data):\n",
    "                images, labels = batch\n",
    "                y_pred = self.forward(images)\n",
    "                _, predicted = torch.max(y_pred, 1)\n",
    "                \n",
    "                checker = (predicted.detach() == labels)\n",
    "                \n",
    "                for i in range(4):\n",
    "                    label = labels[i]\n",
    "                    class_correct[label] += checker[i].item()\n",
    "                    class_total[label] += 1\n",
    "                    \n",
    "        for idx, name_class in enumerate(classes):\n",
    "            print('Accuracy of {}: {}'.format(name_class, round(class_correct[idx] / class_total[idx] * 100, 3)))\n",
    "        \n",
    "        print('Mean accuracy = {}'.format(sum(class_correct) / sum(class_total) * 100))"
   ]
  },
  {
   "cell_type": "code",
   "execution_count": 14,
   "id": "express-arthur",
   "metadata": {},
   "outputs": [],
   "source": [
    "class rankAvgPool(nn.Module):\n",
    "    def __init__(self, kernel_size, stride, t=-1, padding = 0):\n",
    "        super(rankAvgPool, self).__init__()\n",
    "        self.kernel_size = kernel_size\n",
    "        self.stride = stride\n",
    "        self.padding = padding\n",
    "        if t == -1:\n",
    "            self.t = kernel_size // 2\n",
    "        else:\n",
    "            self.t = t\n",
    "    \n",
    "    def forward(self, x):\n",
    "        x = F.pad(x, (self.padding, self.padding, self.padding, self.padding))\n",
    "        n_imgs = x.shape[0]\n",
    "        n_channels = x.shape[1]\n",
    "        n_height = x.shape[2]\n",
    "        n_width = x.shape[3]\n",
    "        \n",
    "        x_unfold = F.unfold(x, kernel_size=self.kernel_size, stride=self.stride)\n",
    "        \n",
    "        n_regions = x_unfold.shape[-1]\n",
    "        n_regions_side = int(np.sqrt(n_regions))\n",
    "        \n",
    "        x_unfold = x_unfold.view(n_imgs, \n",
    "                                   n_channels, \n",
    "                                   self.kernel_size, \n",
    "                                   self.kernel_size, \n",
    "                                   n_regions).permute(0, 4, 1, 2, 3).view(n_imgs, \n",
    "                                                                          n_regions, \n",
    "                                                                          n_channels, \n",
    "                                                                          self.kernel_size ** 2)\n",
    "        \n",
    "        t_sorted = torch.sort(x_unfold, descending=True, dim=-1).values[:, :, :, : (self.t + 1)]\n",
    "        \n",
    "        output = torch.mean(t_sorted, dim=-1).permute(0, 2, 1).view(n_imgs, n_channels, n_regions_side, n_regions_side)\n",
    "        \n",
    "        return output"
   ]
  },
  {
   "cell_type": "code",
   "execution_count": 15,
   "id": "expired-xerox",
   "metadata": {},
   "outputs": [],
   "source": [
    "class model_CIFAR10_rankAvgPool(model_CIFAR10):\n",
    "    def __init__(self):\n",
    "        super(model_CIFAR10_rankAvgPool, self).__init__()\n",
    "        self.pool1 = rankAvgPool(2, 2)\n",
    "        self.pool2 = rankAvgPool(2, 2)"
   ]
  },
  {
   "cell_type": "code",
   "execution_count": 19,
   "id": "infinite-africa",
   "metadata": {},
   "outputs": [
    {
     "name": "stdout",
     "output_type": "stream",
     "text": [
      "200 loss: 2.299\n",
      "400 loss: 2.273\n",
      "600 loss: 2.233\n",
      "800 loss: 2.128\n",
      "1000 loss: 2.058\n",
      "1200 loss: 1.991\n",
      "1400 loss: 1.966\n",
      "1600 loss: 1.955\n",
      "1800 loss: 1.878\n",
      "2000 loss: 1.92\n",
      "2200 loss: 1.905\n",
      "2400 loss: 1.854\n"
     ]
    },
    {
     "data": {
      "image/png": "[encoded data removed]",
      "text/plain": [
       "<Figure size 432x288 with 1 Axes>"
      ]
     },
     "metadata": {
      "needs_background": "light"
     },
     "output_type": "display_data"
    },
    {
     "name": "stdout",
     "output_type": "stream",
     "text": [
      "train ended\n"
     ]
    }
   ],
   "source": [
    "m7_RAP = model_CIFAR10_rankAvgPool()\n",
    "m7_RAP.train(trainloader)"
   ]
  },
  {
   "cell_type": "code",
   "execution_count": 20,
   "id": "introductory-allowance",
   "metadata": {},
   "outputs": [
    {
     "name": "stdout",
     "output_type": "stream",
     "text": [
      "Accuracy of plane: 51.515\n",
      "Accuracy of car: 30.435\n",
      "Accuracy of bird: 12.069\n",
      "Accuracy of cat: 0.0\n",
      "Accuracy of deer: 19.608\n",
      "Accuracy of dog: 37.097\n",
      "Accuracy of frog: 61.429\n",
      "Accuracy of horse: 15.789\n",
      "Accuracy of ship: 42.857\n",
      "Accuracy of truck: 54.93\n",
      "Mean accuracy = 34.333333333333336\n"
     ]
    }
   ],
   "source": [
    "m7_RAP.test(testloader)"
   ]
  },
  {
   "cell_type": "code",
   "execution_count": null,
   "id": "lonely-absolute",
   "metadata": {},
   "outputs": [],
   "source": []
  }
 ],
 "metadata": {
  "kernelspec": {
   "display_name": "Python 3",
   "language": "python",
   "name": "python3"
  },
  "language_info": {
   "codemirror_mode": {
    "name": "ipython",
    "version": 3
   },
   "file_extension": ".py",
   "mimetype": "text/x-python",
   "name": "python",
   "nbconvert_exporter": "python",
   "pygments_lexer": "ipython3",
   "version": "3.9.2"
  }
 },
 "nbformat": 4,
 "nbformat_minor": 5
}
