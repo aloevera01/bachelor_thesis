{
 "cells": [
  {
   "cell_type": "code",
   "execution_count": 31,
   "id": "martial-mozambique",
   "metadata": {},
   "outputs": [],
   "source": [
    "import torch\n",
    "import torchvision\n",
    "import torchvision.transforms as transforms\n",
    "import torch.nn as nn\n",
    "import torch.nn.functional as F\n",
    "import matplotlib.pyplot as plt\n",
    "import numpy as np\n",
    "from torch.utils.data import Subset"
   ]
  },
  {
   "cell_type": "code",
   "execution_count": 38,
   "id": "developed-brain",
   "metadata": {},
   "outputs": [
    {
     "name": "stdout",
     "output_type": "stream",
     "text": [
      "Files already downloaded and verified\n",
      "Files already downloaded and verified\n"
     ]
    }
   ],
   "source": [
    "transform = transforms.Compose(\n",
    "    [transforms.ToTensor()])\n",
    "\n",
    "trainset = torchvision.datasets.CIFAR10(root='./data', train=True, \n",
    "                                      download=True, transform=transform)\n",
    "\n",
    "testset = torchvision.datasets.CIFAR10(root='./data', train=False,\n",
    "                                     download=True, transform=transform)\n",
    "\n",
    "trainset_sub = Subset(trainset, indices=range(3200))\n",
    "testset_sub = Subset(testset, indices=range(600))\n",
    "\n",
    "trainloader = torch.utils.data.DataLoader(trainset_sub, batch_size=4,\n",
    "                                          shuffle=True, num_workers=2)\n",
    "testloader = torch.utils.data.DataLoader(testset_sub, batch_size=4,\n",
    "                                          shuffle=True, num_workers=2)"
   ]
  },
  {
   "cell_type": "code",
   "execution_count": 33,
   "id": "intermediate-seeker",
   "metadata": {},
   "outputs": [],
   "source": [
    "class model_CIFAR10(nn.Module):\n",
    "    def __init__(self):\n",
    "        super(model_CIFAR10, self).__init__()\n",
    "        self.conv1 = nn.Conv2d(in_channels=3, out_channels=16, kernel_size=3)\n",
    "        self.conv2 = nn.Conv2d(in_channels=16, out_channels=32, kernel_size=3)\n",
    "        self.fc1 = nn.Linear(6 * 6 * 32, 64)\n",
    "        self.fc2 = nn.Linear(64, 10)\n",
    "        #self.fc3 = nn.Linear(32, 10)\n",
    "        self.loss_fn = nn.CrossEntropyLoss()\n",
    "        self.optimizer = torch.optim.Adam(self.parameters(), lr=1e-4)\n",
    "    \n",
    "    def forward(self, x):\n",
    "        x = self.pool1(F.relu(self.conv1(x)))\n",
    "        x = self.pool2(F.relu(self.conv2(x)))\n",
    "        x = x.reshape(x.shape[0], 6 * 6 * 32)\n",
    "        x = F.relu(self.fc1(x))\n",
    "        #x = F.relu(self.fc2(x))\n",
    "        x = self.fc2(x)\n",
    "        return x\n",
    "    \n",
    "    def train(self, batches):\n",
    "        losses = []\n",
    "        for epoch in range(3):\n",
    "            running_loss = 0.0\n",
    "            for i, batch in enumerate(batches):\n",
    "                X_batch, y_batch = batch   \n",
    "\n",
    "                self.optimizer.zero_grad()\n",
    "            \n",
    "                y_pred = self.forward(X_batch)\n",
    "                loss = self.loss_fn(y_pred, y_batch)\n",
    "                loss.backward()\n",
    "                self.optimizer.step()\n",
    "            \n",
    "                running_loss += loss.item()\n",
    "            \n",
    "                if i % 200 == 199:\n",
    "                    print('{} loss: {}'.format(i + 1 + epoch * 800, \n",
    "                                               round(running_loss / 200, \n",
    "                                                     3)))\n",
    "                    losses.append(running_loss)\n",
    "                    running_loss = 0.0 \n",
    "                \n",
    "        plt.plot(np.arange(len(losses)), losses)\n",
    "        plt.show()\n",
    "        print('train ended')\n",
    "        \n",
    "    def test(self, data):\n",
    "        class_correct = list(0 for i in range(10))\n",
    "        class_total = list(0 for i in range(10))\n",
    "        classes = ('plane', 'car', 'bird', 'cat',\n",
    "           'deer', 'dog', 'frog', 'horse', 'ship', 'truck')\n",
    "        \n",
    "        with torch.no_grad():\n",
    "            for i, batch in enumerate(data):\n",
    "                images, labels = batch\n",
    "                y_pred = self.forward(images)\n",
    "                _, predicted = torch.max(y_pred, 1)\n",
    "                \n",
    "                checker = (predicted.detach() == labels)\n",
    "                \n",
    "                for i in range(4):\n",
    "                    label = labels[i]\n",
    "                    class_correct[label] += checker[i].item()\n",
    "                    class_total[label] += 1\n",
    "                    \n",
    "        for idx, name_class in enumerate(classes):\n",
    "            print('Accuracy of {}: {}'.format(name_class, round(class_correct[idx] / class_total[idx] * 100, 3)))\n",
    "        \n",
    "        print('Mean accuracy = {}'.format(sum(class_correct) / sum(class_total) * 100))"
   ]
  },
  {
   "cell_type": "code",
   "execution_count": 34,
   "id": "continuing-beast",
   "metadata": {},
   "outputs": [],
   "source": [
    "class mixedPool(nn.Module):\n",
    "    def __init__(self, kernel_size, stride, alpha = 0.5, padding = 0):\n",
    "        super(mixedPool, self).__init__()\n",
    "        alpha = torch.FloatTensor([alpha])\n",
    "        self.alpha = nn.Parameter(alpha)\n",
    "        self.kernel_size = kernel_size\n",
    "        self.stride = stride\n",
    "        self.padding = padding\n",
    "         \n",
    "    def forward(self, x):\n",
    "        x = self.alpha * F.max_pool2d(x,\n",
    "                                      self.kernel_size,\n",
    "                                      self.stride,\n",
    "                                      self.padding) + (1 - self.alpha) * F.avg_pool2d(x,\n",
    "                                                                                      self.kernel_size,\n",
    "                                                                                      self.stride, \n",
    "                                                                                      self.padding)\n",
    "        return x"
   ]
  },
  {
   "cell_type": "code",
   "execution_count": 35,
   "id": "prime-comparative",
   "metadata": {},
   "outputs": [],
   "source": [
    "class model_CIFAR10_mixedPool(model_CIFAR10):\n",
    "    def __init__(self):\n",
    "        super(model_CIFAR10_mixedPool, self).__init__()\n",
    "        self.pool1 = mixedPool(2, 2)\n",
    "        self.pool2 = mixedPool(2, 2)"
   ]
  },
  {
   "cell_type": "code",
   "execution_count": 39,
   "id": "particular-morocco",
   "metadata": {},
   "outputs": [
    {
     "name": "stdout",
     "output_type": "stream",
     "text": [
      "200 loss: 2.299\n",
      "400 loss: 2.244\n",
      "600 loss: 2.128\n",
      "800 loss: 2.104\n",
      "1000 loss: 2.007\n",
      "1200 loss: 2.011\n",
      "1400 loss: 2.009\n",
      "1600 loss: 1.971\n",
      "1800 loss: 1.974\n",
      "2000 loss: 1.926\n",
      "2200 loss: 1.893\n",
      "2400 loss: 1.859\n"
     ]
    },
    {
     "data": {
      "image/png": "[encoded data removed]",
      "text/plain": [
       "<Figure size 432x288 with 1 Axes>"
      ]
     },
     "metadata": {
      "needs_background": "light"
     },
     "output_type": "display_data"
    },
    {
     "name": "stdout",
     "output_type": "stream",
     "text": [
      "train ended\n"
     ]
    }
   ],
   "source": [
    "m3_mixed = model_CIFAR10_mixedPool()\n",
    "m3_mixed.train(trainloader)"
   ]
  },
  {
   "cell_type": "code",
   "execution_count": 40,
   "id": "classified-onion",
   "metadata": {},
   "outputs": [
    {
     "name": "stdout",
     "output_type": "stream",
     "text": [
      "Accuracy of plane: 40.909\n",
      "Accuracy of car: 50.0\n",
      "Accuracy of bird: 8.621\n",
      "Accuracy of cat: 0.0\n",
      "Accuracy of deer: 1.961\n",
      "Accuracy of dog: 46.774\n",
      "Accuracy of frog: 67.143\n",
      "Accuracy of horse: 42.105\n",
      "Accuracy of ship: 31.746\n",
      "Accuracy of truck: 43.662\n",
      "Mean accuracy = 34.5\n"
     ]
    }
   ],
   "source": [
    "m3_mixed.test(testloader)"
   ]
  },
  {
   "cell_type": "code",
   "execution_count": null,
   "id": "affected-bearing",
   "metadata": {},
   "outputs": [],
   "source": []
  }
 ],
 "metadata": {
  "kernelspec": {
   "display_name": "Python 3",
   "language": "python",
   "name": "python3"
  },
  "language_info": {
   "codemirror_mode": {
    "name": "ipython",
    "version": 3
   },
   "file_extension": ".py",
   "mimetype": "text/x-python",
   "name": "python",
   "nbconvert_exporter": "python",
   "pygments_lexer": "ipython3",
   "version": "3.9.2"
  }
 },
 "nbformat": 4,
 "nbformat_minor": 5
}
