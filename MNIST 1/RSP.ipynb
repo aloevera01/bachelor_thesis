{
 "cells": [
  {
   "cell_type": "code",
   "execution_count": 1,
   "id": "empty-flexibility",
   "metadata": {},
   "outputs": [],
   "source": [
    "import torch\n",
    "import torchvision\n",
    "import torchvision.transforms as transforms\n",
    "import torch.nn as nn\n",
    "import torch.nn.functional as F\n",
    "import matplotlib.pyplot as plt\n",
    "import numpy as np\n",
    "from torch.utils.data import Subset"
   ]
  },
  {
   "cell_type": "code",
   "execution_count": 2,
   "id": "honest-whole",
   "metadata": {},
   "outputs": [],
   "source": [
    "transform = transforms.Compose(\n",
    "    [transforms.ToTensor()])\n",
    "\n",
    "trainset = torchvision.datasets.MNIST(root='./data', train=True, \n",
    "                                      download=True, transform=transform)\n",
    "\n",
    "testset = torchvision.datasets.MNIST(root='./data', train=False,\n",
    "                                     download=True, transform=transform)"
   ]
  },
  {
   "cell_type": "code",
   "execution_count": 3,
   "id": "reasonable-fisher",
   "metadata": {},
   "outputs": [],
   "source": [
    "trainset_sub = Subset(trainset, indices=range(6400))\n",
    "trainloader = torch.utils.data.DataLoader(trainset_sub, batch_size=4,\n",
    "                                          shuffle=True, num_workers=2)\n",
    "testset_sub = Subset(trainset, indices=range(1000))\n",
    "testloader = torch.utils.data.DataLoader(testset_sub, batch_size=4,\n",
    "                                          shuffle=True, num_workers=2)"
   ]
  },
  {
   "cell_type": "code",
   "execution_count": 4,
   "id": "gorgeous-activity",
   "metadata": {},
   "outputs": [],
   "source": [
    "class model_MNIST(nn.Module):\n",
    "    def __init__(self):\n",
    "        super(model_MNIST, self).__init__()\n",
    "        self.conv1 = nn.Conv2d(in_channels=1, out_channels=6, kernel_size=5)\n",
    "        self.conv2 = nn.Conv2d(in_channels=6, out_channels=16, kernel_size=5)\n",
    "        self.fc1 = nn.Linear(4 * 4 * 16, 120)\n",
    "        self.fc2 = nn.Linear(120, 84)\n",
    "        self.fc3 = nn.Linear(84, 10)\n",
    "        self.loss_fn = nn.CrossEntropyLoss()\n",
    "        self.optimizer = torch.optim.Adam(self.parameters(), lr=1e-4)\n",
    "    \n",
    "    def forward(self, x):\n",
    "        x = self.pool1(F.relu(self.conv1(x)))\n",
    "        x = self.pool2(F.relu(self.conv2(x)))\n",
    "        x = x.reshape(x.shape[0], 4 * 4 * 16)\n",
    "        x = F.relu(self.fc1(x))\n",
    "        x = F.relu(self.fc2(x))\n",
    "        x = self.fc3(x)\n",
    "        return x\n",
    "    \n",
    "    def train(self, batches):\n",
    "        losses = []\n",
    "        running_loss = 0.0\n",
    "        for i, batch in enumerate(batches):\n",
    "            X_batch, y_batch = batch \n",
    "            \n",
    "            X_batch = X_batch.to()\n",
    "            y_batch = y_batch.to()\n",
    "          \n",
    "\n",
    "            self.optimizer.zero_grad()\n",
    "            \n",
    "            y_pred = self.forward(X_batch)\n",
    "            loss = self.loss_fn(y_pred, y_batch)\n",
    "            loss.backward()\n",
    "            self.optimizer.step()\n",
    "            \n",
    "            running_loss += loss.item()\n",
    "            \n",
    "            #print(i, loss.item())\n",
    "            if i % 200 == 199:\n",
    "                print('{} loss: {}'.format(i + 1, \n",
    "                                           round(running_loss / 200, \n",
    "                                                 3)))\n",
    "                losses.append(running_loss)\n",
    "                running_loss = 0.0 \n",
    "                \n",
    "        plt.plot(np.arange(len(losses)), losses)\n",
    "        plt.show()\n",
    "        print('train ended')\n",
    "        \n",
    "    def test(self, data):\n",
    "        class_correct = list(0 for i in range(10))\n",
    "        class_total = list(0 for i in range(10))\n",
    "        classes = np.arange(10)\n",
    "        \n",
    "        with torch.no_grad():\n",
    "            for i, batch in enumerate(data):\n",
    "                images, labels = batch\n",
    "                y_pred = self.forward(images)\n",
    "                _, predicted = torch.max(y_pred, 1)\n",
    "                \n",
    "                checker = (predicted.detach() == labels)\n",
    "                \n",
    "                for i in range(4):\n",
    "                    label = labels[i]\n",
    "                    class_correct[label] += checker[i].item()\n",
    "                    class_total[label] += 1\n",
    "                if i == 999:\n",
    "                    break\n",
    "                    \n",
    "        for idx, num_class in enumerate(classes):\n",
    "            print('Accuracy of {}: {}'.format(num_class, round(class_correct[idx] / class_total[idx] * 100, 3)))\n",
    "        \n",
    "        print('Mean accuracy = {}'.format(sum(class_correct) / sum(class_total) * 100))"
   ]
  },
  {
   "cell_type": "code",
   "execution_count": 5,
   "id": "neural-receiver",
   "metadata": {},
   "outputs": [],
   "source": [
    "class rankStochasticPool(nn.Module):\n",
    "    def __init__(self, kernel_size, stride, padding = 0, alpha = 0.5):\n",
    "        super(rankStochasticPool, self).__init__()\n",
    "        self.kernel_size = kernel_size\n",
    "        self.stride = stride\n",
    "        self.padding = padding\n",
    "        probas = []\n",
    "        for rank in range(kernel_size ** 2):\n",
    "            probas.append(alpha * (1 - alpha) ** rank)\n",
    "        self.probas = torch.Tensor(probas)\n",
    "    \n",
    "    def forward(self, x):\n",
    "        x = F.pad(x, (self.padding, self.padding, self.padding, self.padding))\n",
    "        n_imgs = x.shape[0]\n",
    "        n_channels = x.shape[1]\n",
    "        n_height = x.shape[2]\n",
    "        n_width = x.shape[3]\n",
    "        \n",
    "        x_unfold = F.unfold(x, kernel_size=self.kernel_size, stride=self.stride)\n",
    "        \n",
    "        n_regions = x_unfold.shape[-1]\n",
    "        n_regions_side = int(np.sqrt(n_regions))\n",
    "        \n",
    "        x_unfold = x_unfold.view(n_imgs, \n",
    "                                 n_channels, \n",
    "                                 self.kernel_size, \n",
    "                                 self.kernel_size, \n",
    "                                 n_regions).permute(0, 4, 1, 2, 3).view(n_imgs, \n",
    "                                                                        n_regions, \n",
    "                                                                        n_channels, \n",
    "                                                                        self.kernel_size ** 2)\n",
    "        \n",
    "        probas = torch.cat([self.probas] * (n_imgs * n_channels * n_regions)).view(n_imgs, \n",
    "                                                                                   n_regions, \n",
    "                                                                                   n_channels, \n",
    "                                                                                   self.kernel_size ** 2)\n",
    "        \n",
    "        output = torch.zeros((n_imgs, n_channels, n_height // self.stride, n_width // self.stride))\n",
    "\n",
    "        for idx_i, img in enumerate(x_unfold):\n",
    "            for idx_r, region in enumerate(img):\n",
    "                for idx_c, channel in enumerate(region):\n",
    "                    idx = torch.multinomial(probas[idx_i][idx_r][idx_c], 1)\n",
    "                    val = channel[int(idx)]\n",
    "                    output[idx_i][idx_c][idx_r // n_regions_side][idx_r % n_regions_side] = val\n",
    "\n",
    "        return output"
   ]
  },
  {
   "cell_type": "code",
   "execution_count": 7,
   "id": "contained-somewhere",
   "metadata": {},
   "outputs": [],
   "source": [
    "class model_MNIST_rankStochasticPool(model_MNIST):\n",
    "    def __init__(self):\n",
    "        super(model_MNIST_rankStochasticPool, self).__init__()\n",
    "        self.pool1 = rankStochasticPool(2, 2)\n",
    "        self.pool2 = rankStochasticPool(2, 2)"
   ]
  },
  {
   "cell_type": "code",
   "execution_count": 8,
   "id": "published-ready",
   "metadata": {},
   "outputs": [
    {
     "name": "stdout",
     "output_type": "stream",
     "text": [
      "200 loss: 2.295\n",
      "400 loss: 2.179\n",
      "600 loss: 1.415\n",
      "800 loss: 0.89\n",
      "1000 loss: 0.812\n",
      "1200 loss: 0.69\n",
      "1400 loss: 0.617\n",
      "1600 loss: 0.601\n"
     ]
    },
    {
     "data": {
      "image/png": "[encoded data removed]",
      "text/plain": [
       "<Figure size 432x288 with 1 Axes>"
      ]
     },
     "metadata": {
      "needs_background": "light"
     },
     "output_type": "display_data"
    },
    {
     "name": "stdout",
     "output_type": "stream",
     "text": [
      "train ended\n"
     ]
    }
   ],
   "source": [
    "m9_RSP = model_MNIST_rankStochasticPool()\n",
    "m9_RSP.train(trainloader)"
   ]
  },
  {
   "cell_type": "code",
   "execution_count": 11,
   "id": "derived-officer",
   "metadata": {},
   "outputs": [
    {
     "name": "stdout",
     "output_type": "stream",
     "text": [
      "Accuracy of 0: 97.938\n",
      "Accuracy of 1: 90.517\n",
      "Accuracy of 2: 80.808\n",
      "Accuracy of 3: 86.022\n",
      "Accuracy of 4: 87.619\n",
      "Accuracy of 5: 55.435\n",
      "Accuracy of 6: 77.66\n",
      "Accuracy of 7: 82.051\n",
      "Accuracy of 8: 67.816\n",
      "Accuracy of 9: 61.0\n",
      "Mean accuracy = 79.2\n"
     ]
    }
   ],
   "source": [
    "m9_RSP.test(testloader)"
   ]
  },
  {
   "cell_type": "code",
   "execution_count": null,
   "id": "latest-melissa",
   "metadata": {},
   "outputs": [],
   "source": []
  }
 ],
 "metadata": {
  "kernelspec": {
   "display_name": "Python 3",
   "language": "python",
   "name": "python3"
  },
  "language_info": {
   "codemirror_mode": {
    "name": "ipython",
    "version": 3
   },
   "file_extension": ".py",
   "mimetype": "text/x-python",
   "name": "python",
   "nbconvert_exporter": "python",
   "pygments_lexer": "ipython3",
   "version": "3.9.2"
  }
 },
 "nbformat": 4,
 "nbformat_minor": 5
}
